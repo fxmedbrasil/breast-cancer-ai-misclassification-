{
 "cells": [
  {
   "cell_type": "markdown",
   "id": "dc0570b1",
   "metadata": {},
   "source": [
    "# SHAP Explainability for PAM50 Subtype Prediction\n",
    "This notebook:\n",
    "- Loads the breast cancer subtype dataset\n",
    "- Trains a model\n",
    "- Computes SHAP values\n",
    "- Visualizes feature attributions"
   ]
  },
  {
   "cell_type": "code",
   "execution_count": null,
   "id": "99d83ea1",
   "metadata": {},
   "outputs": [],
   "source": [
    "# Install SHAP & XGBoost if not already installed\n",
    "!pip install shap xgboost pandas matplotlib seaborn"
   ]
  },
  {
   "cell_type": "code",
   "execution_count": null,
   "id": "ff73fa74",
   "metadata": {},
   "outputs": [],
   "source": [
    "# Load Dataset\n",
    "import pandas as pd\n",
    "data = pd.read_csv('capstone_step_6_model_data_for_shap_export.csv')\n",
    "data.head()"
   ]
  },
  {
   "cell_type": "code",
   "execution_count": null,
   "id": "faedfa43",
   "metadata": {},
   "outputs": [],
   "source": [
    "# Separate features and target\n",
    "X = data.drop(columns=['pam50_numeric'])\n",
    "y = data['pam50_numeric']"
   ]
  },
  {
   "cell_type": "code",
   "execution_count": null,
   "id": "27feafe8",
   "metadata": {},
   "outputs": [],
   "source": [
    "# Train XGBoost Model\n",
    "from xgboost import XGBClassifier\n",
    "model = XGBClassifier(objective='multi:softprob', num_class=5, eval_metric='mlogloss', n_jobs=-1)\n",
    "model.fit(X, y)"
   ]
  },
  {
   "cell_type": "code",
   "execution_count": null,
   "id": "a398460d",
   "metadata": {},
   "outputs": [],
   "source": [
    "# Compute SHAP Values\n",
    "import shap\n",
    "explainer = shap.Explainer(model)\n",
    "shap_values = explainer(X)"
   ]
  },
  {
   "cell_type": "code",
   "execution_count": null,
   "id": "a188cd4c",
   "metadata": {},
   "outputs": [],
   "source": [
    "# Plot SHAP Summary\n",
    "shap.summary_plot(shap_values, X)"
   ]
  },
  {
   "cell_type": "code",
   "execution_count": null,
   "id": "40bc332c",
   "metadata": {},
   "outputs": [],
   "source": [
    "# Export SHAP Values (Optional)\n",
    "import numpy as np\n",
    "np.save('shap_values.npy', shap_values.values)"
   ]
  },
  {
   "cell_type": "code",
   "execution_count": null,
   "id": "ac2ed5f5-a50a-4039-aaf6-6cd8ad9e8c4a",
   "metadata": {},
   "outputs": [],
   "source": [
    "## Author:\n",
    "Julian Borges, M.D. — Harvard Medical School (HMS)\n",
    "Global Clinical Scholars Research Training (GCSRT) 2025  \n",
    "Capstone Project: *\"Hidden Biases in AI-Powered Genomic Subtyping of Breast Cancer\"*\n",
    "---"
   ]
  }
 ],
 "metadata": {
  "kernelspec": {
   "display_name": "\"Python/Mu (mu_venv-38-20240816-150332)\"",
   "language": "python",
   "name": "mu_venv-38-20240816-150332"
  },
  "language_info": {
   "codemirror_mode": {
    "name": "ipython",
    "version": 3
   },
   "file_extension": ".py",
   "mimetype": "text/x-python",
   "name": "python",
   "nbconvert_exporter": "python",
   "pygments_lexer": "ipython3",
   "version": "3.8.12"
  }
 },
 "nbformat": 4,
 "nbformat_minor": 5
}
