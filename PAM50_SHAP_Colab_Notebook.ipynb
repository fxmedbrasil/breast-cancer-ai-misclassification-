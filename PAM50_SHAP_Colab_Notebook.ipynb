{
 "cells": [
  {
   "cell_type": "markdown",
   "id": "89447bcc",
   "metadata": {},
   "source": [
    "# SHAP Explainability for PAM50 Subtype Prediction (Google Colab Version)\n",
    "This notebook:\n",
    "- Loads your clinical dataset\n",
    "- Trains an XGBoost model\n",
    "- Computes SHAP values for interpretability\n",
    "- Visualizes global feature influence"
   ]
  },
  {
   "cell_type": "code",
   "execution_count": null,
   "id": "51d96e4c",
   "metadata": {},
   "outputs": [],
   "source": [
    "# Install Required Packages (Colab-safe)\n",
    "!pip install shap xgboost pandas matplotlib seaborn"
   ]
  },
  {
   "cell_type": "code",
   "execution_count": null,
   "id": "ac23b20b",
   "metadata": {},
   "outputs": [],
   "source": [
    "# Upload your dataset\n",
    "from google.colab import files\n",
    "uploaded = files.upload()\n",
    "\n",
    "import pandas as pd\n",
    "import io\n",
    "data = pd.read_csv(io.BytesIO(uploaded['capstone_step_6_model_data_for_shap_export.csv']))\n",
    "data.head()"
   ]
  },
  {
   "cell_type": "code",
   "execution_count": null,
   "id": "b80a71af",
   "metadata": {},
   "outputs": [],
   "source": [
    "# Split into features and target\n",
    "X = data.drop(columns=['pam50_numeric'])\n",
    "y = data['pam50_numeric']"
   ]
  },
  {
   "cell_type": "code",
   "execution_count": null,
   "id": "cf29c786",
   "metadata": {},
   "outputs": [],
   "source": [
    "# Train the XGBoost model\n",
    "from xgboost import XGBClassifier\n",
    "model = XGBClassifier(objective='multi:softprob', num_class=5, eval_metric='mlogloss', n_jobs=-1)\n",
    "model.fit(X, y)"
   ]
  },
  {
   "cell_type": "code",
   "execution_count": null,
   "id": "c66ff25f",
   "metadata": {},
   "outputs": [],
   "source": [
    "# Compute SHAP values\n",
    "import shap\n",
    "explainer = shap.Explainer(model)\n",
    "shap_values = explainer(X)"
   ]
  },
  {
   "cell_type": "code",
   "execution_count": null,
   "id": "ffcde04d",
   "metadata": {},
   "outputs": [],
   "source": [
    "# Visualize SHAP summary\n",
    "shap.summary_plot(shap_values, X)"
   ]
  },
  {
   "cell_type": "code",
   "execution_count": null,
   "id": "037305ad",
   "metadata": {},
   "outputs": [],
   "source": [
    "# Optional: Save SHAP values to download later\n",
    "import numpy as np\n",
    "np.save('shap_values.npy', shap_values.values)"
   ]
  },
  {
   "cell_type": "code",
   "execution_count": null,
   "id": "083c091e-a062-4bf4-9c09-252161326781",
   "metadata": {},
   "outputs": [],
   "source": [
    "## Author:\n",
    "Julian Borges, M.D. — Harvard Medical School (HMS)\n",
    "Global Clinical Scholars Research Training (GCSRT) 2025  \n",
    "Capstone Project: *\"Hidden Biases in AI-Powered Genomic Subtyping of Breast Cancer\"*\n",
    "---"
   ]
  }
 ],
 "metadata": {
  "kernelspec": {
   "display_name": "\"Python/Mu (mu_venv-38-20240816-150332)\"",
   "language": "python",
   "name": "mu_venv-38-20240816-150332"
  },
  "language_info": {
   "codemirror_mode": {
    "name": "ipython",
    "version": 3
   },
   "file_extension": ".py",
   "mimetype": "text/x-python",
   "name": "python",
   "nbconvert_exporter": "python",
   "pygments_lexer": "ipython3",
   "version": "3.8.12"
  }
 },
 "nbformat": 4,
 "nbformat_minor": 5
}
